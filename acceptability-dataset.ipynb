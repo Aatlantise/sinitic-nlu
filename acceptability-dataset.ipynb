{
 "cells": [
  {
   "cell_type": "code",
   "id": "initial_id",
   "metadata": {
    "collapsed": true,
    "ExecuteTime": {
     "end_time": "2025-08-21T09:11:25.112689Z",
     "start_time": "2025-08-21T09:11:25.083600Z"
    }
   },
   "source": [
    "import datasets\n",
    "from datasets import load_dataset\n",
    "import pandas as pd\n",
    "from simalign import SentenceAligner\n",
    "from transformers import BertTokenizerFast\n",
    "from hanziconv import HanziConv\n",
    "import random\n",
    "from tqdm import tqdm"
   ],
   "outputs": [],
   "execution_count": 3
  },
  {
   "metadata": {
    "ExecuteTime": {
     "end_time": "2025-08-21T09:12:37.151512Z",
     "start_time": "2025-08-21T09:12:34.516354Z"
    }
   },
   "cell_type": "code",
   "source": [
    "ds = load_dataset('HKAllen/cantonese-chinese-parallel-corpus')\n",
    "tokenizer = BertTokenizerFast.from_pretrained('bert-base-chinese')\n",
    "aligner = SentenceAligner(model=\"bert-base-chinese\", matching_methods=\"m\", device=\"mps\")\n",
    "results = {\n",
    "    'text': [],\n",
    "    'label': []\n",
    "}"
   ],
   "id": "f150c78613528ad3",
   "outputs": [
    {
     "name": "stderr",
     "output_type": "stream",
     "text": [
      "2025-08-21 05:12:37,147 - simalign.simalign - INFO - Initialized the EmbeddingLoader with model: bert-base-chinese\n"
     ]
    }
   ],
   "execution_count": 8
  },
  {
   "metadata": {
    "ExecuteTime": {
     "end_time": "2025-08-21T09:34:00.716733Z",
     "start_time": "2025-08-21T09:12:37.197184Z"
    }
   },
   "cell_type": "code",
   "source": [
    "for sentence in tqdm(ds['train'].select(range(10000))):\n",
    "    yue_tokens = tokenizer.tokenize(sentence['yue'])\n",
    "    cmn_traditional = HanziConv.toTraditional(sentence['zh'])\n",
    "    if sentence['yue'] == cmn_traditional or 127 <= len(yue_tokens) <= 5 or 127 <= len(cmn_traditional) <= 5:\n",
    "        continue\n",
    "    cmn_tokens = tokenizer.tokenize(cmn_traditional)\n",
    "    alignment = aligner.get_word_aligns(yue_tokens, cmn_tokens)['mwmf']\n",
    "\n",
    "    corrupted_sentences = set()\n",
    "    for prob in (0.15, 0.33, 0.5):\n",
    "        corrupted_sentence_yue = [token for token in yue_tokens]\n",
    "        for pair in alignment:\n",
    "            idx_0 = pair[0]\n",
    "            idx_1 = pair[1]\n",
    "            if random.random() < 0.25 and yue_tokens[idx_0] != cmn_tokens[idx_1]:\n",
    "                corrupted_sentence_yue[idx_0] = cmn_tokens[idx_1]\n",
    "        corrupted_sentences.add(''.join(corrupted_sentence_yue).replace('##', ''))\n",
    "    for prob in (0.15, 0.33, 0.5):\n",
    "        corrupted_sentence_cmn = [token for token in cmn_tokens]\n",
    "        for pair in alignment:\n",
    "            idx_0 = pair[0]\n",
    "            idx_1 = pair[1]\n",
    "            if random.random() < 0.25 and yue_tokens[idx_0] != cmn_tokens[idx_1]:\n",
    "                corrupted_sentence_cmn[idx_1] = yue_tokens[idx_0]\n",
    "        corrupted_sentences.add(''.join(corrupted_sentence_cmn).replace('[UNK]', ''))\n",
    "    for corrupted_sentence in corrupted_sentences:\n",
    "        if corrupted_sentence == sentence['yue'] or corrupted_sentence == cmn_traditional:\n",
    "            continue\n",
    "        results['text'].append(corrupted_sentence)\n",
    "        results['label'].append(2)\n",
    "    results['text'].append(sentence['yue'])\n",
    "    results['label'].append(0)\n",
    "    results['text'].append(cmn_traditional)\n",
    "    results['label'].append(1)"
   ],
   "id": "c070c7ebdf3a79b7",
   "outputs": [
    {
     "name": "stderr",
     "output_type": "stream",
     "text": [
      " 80%|████████  | 8038/10000 [16:37<03:38,  8.97it/s]  Token indices sequence length is longer than the specified maximum sequence length for this model (716 > 512). Running this sequence through the model will result in indexing errors\n",
      "100%|██████████| 10000/10000 [21:23<00:00,  7.79it/s]\n"
     ]
    }
   ],
   "execution_count": 9
  },
  {
   "metadata": {
    "ExecuteTime": {
     "end_time": "2025-08-21T09:40:35.774389Z",
     "start_time": "2025-08-21T09:40:35.618802Z"
    }
   },
   "cell_type": "code",
   "source": [
    "df = pd.DataFrame(results)\n",
    "# drop where \"text\" contains [UNK]\n",
    "df = df[~df['text'].str.contains('[UNK]')]\n",
    "# replace ## with empty string\n",
    "df['text'] = df['text'].str.replace('##', '', regex=False)\n",
    "# drop containing english letters\n",
    "df = df[~df['text'].str.contains('[a-zA-Z]')]\n",
    "df"
   ],
   "id": "41b1b344a4773e33",
   "outputs": [
    {
     "data": {
      "text/plain": [
       "                                              text  label\n",
       "0         建生邨屬於租者置其屋計劃的屋邨，同一大廈內，有啲單位已經賣咗，其餘的是租住單位。      2\n",
       "1         建生邨屬於租者置其屋計劃嘅屋邨，同一大廈內，有啲單位已經賣咗，其餘嘅是租住單位。      2\n",
       "2         建生邨屬於租者置其屋計劃的屋邨，同一大廈內，有啲單位已經賣咗，其餘的係租住單位。      2\n",
       "3         建生邨屬於租者置其屋計劃的屋邨，同一大廈內，有些單位已經賣咗，其餘的是租住單位。      2\n",
       "4         建生邨屬於租者置其屋計劃嘅屋邨，同一大廈內，有些單位已經賣瞭，其餘嘅是租住單位。      2\n",
       "...                                            ...    ...\n",
       "59978  17世紀時，英國國教會開始在美國、澳大利洲、加拿大、新西蘭同南非等前英殖民地建立教會。      2\n",
       "59979  17世紀時，英國國教會開始在美國、澳大利亞、加拿大、紐西蘭和南非等前英殖民地建立教會。      2\n",
       "59980   17世紀嗰陣，英國國教會開始在美國、澳洲、加拿大、紐西蘭同南非等前英殖民地建立教會。      2\n",
       "59981   17世紀嗰陣，英國國教會開始響美國、澳洲、加拿大、紐西蘭同南非等前英殖民地創立教會。      0\n",
       "59982  17世紀時，英國國教會開始在美國、澳大利亞、加拿大、新西蘭和南非等前英殖民地建立教會。      1\n",
       "\n",
       "[47578 rows x 2 columns]"
      ],
      "text/html": [
       "<div>\n",
       "<style scoped>\n",
       "    .dataframe tbody tr th:only-of-type {\n",
       "        vertical-align: middle;\n",
       "    }\n",
       "\n",
       "    .dataframe tbody tr th {\n",
       "        vertical-align: top;\n",
       "    }\n",
       "\n",
       "    .dataframe thead th {\n",
       "        text-align: right;\n",
       "    }\n",
       "</style>\n",
       "<table border=\"1\" class=\"dataframe\">\n",
       "  <thead>\n",
       "    <tr style=\"text-align: right;\">\n",
       "      <th></th>\n",
       "      <th>text</th>\n",
       "      <th>label</th>\n",
       "    </tr>\n",
       "  </thead>\n",
       "  <tbody>\n",
       "    <tr>\n",
       "      <th>0</th>\n",
       "      <td>建生邨屬於租者置其屋計劃的屋邨，同一大廈內，有啲單位已經賣咗，其餘的是租住單位。</td>\n",
       "      <td>2</td>\n",
       "    </tr>\n",
       "    <tr>\n",
       "      <th>1</th>\n",
       "      <td>建生邨屬於租者置其屋計劃嘅屋邨，同一大廈內，有啲單位已經賣咗，其餘嘅是租住單位。</td>\n",
       "      <td>2</td>\n",
       "    </tr>\n",
       "    <tr>\n",
       "      <th>2</th>\n",
       "      <td>建生邨屬於租者置其屋計劃的屋邨，同一大廈內，有啲單位已經賣咗，其餘的係租住單位。</td>\n",
       "      <td>2</td>\n",
       "    </tr>\n",
       "    <tr>\n",
       "      <th>3</th>\n",
       "      <td>建生邨屬於租者置其屋計劃的屋邨，同一大廈內，有些單位已經賣咗，其餘的是租住單位。</td>\n",
       "      <td>2</td>\n",
       "    </tr>\n",
       "    <tr>\n",
       "      <th>4</th>\n",
       "      <td>建生邨屬於租者置其屋計劃嘅屋邨，同一大廈內，有些單位已經賣瞭，其餘嘅是租住單位。</td>\n",
       "      <td>2</td>\n",
       "    </tr>\n",
       "    <tr>\n",
       "      <th>...</th>\n",
       "      <td>...</td>\n",
       "      <td>...</td>\n",
       "    </tr>\n",
       "    <tr>\n",
       "      <th>59978</th>\n",
       "      <td>17世紀時，英國國教會開始在美國、澳大利洲、加拿大、新西蘭同南非等前英殖民地建立教會。</td>\n",
       "      <td>2</td>\n",
       "    </tr>\n",
       "    <tr>\n",
       "      <th>59979</th>\n",
       "      <td>17世紀時，英國國教會開始在美國、澳大利亞、加拿大、紐西蘭和南非等前英殖民地建立教會。</td>\n",
       "      <td>2</td>\n",
       "    </tr>\n",
       "    <tr>\n",
       "      <th>59980</th>\n",
       "      <td>17世紀嗰陣，英國國教會開始在美國、澳洲、加拿大、紐西蘭同南非等前英殖民地建立教會。</td>\n",
       "      <td>2</td>\n",
       "    </tr>\n",
       "    <tr>\n",
       "      <th>59981</th>\n",
       "      <td>17世紀嗰陣，英國國教會開始響美國、澳洲、加拿大、紐西蘭同南非等前英殖民地創立教會。</td>\n",
       "      <td>0</td>\n",
       "    </tr>\n",
       "    <tr>\n",
       "      <th>59982</th>\n",
       "      <td>17世紀時，英國國教會開始在美國、澳大利亞、加拿大、新西蘭和南非等前英殖民地建立教會。</td>\n",
       "      <td>1</td>\n",
       "    </tr>\n",
       "  </tbody>\n",
       "</table>\n",
       "<p>47578 rows × 2 columns</p>\n",
       "</div>"
      ]
     },
     "execution_count": 11,
     "metadata": {},
     "output_type": "execute_result"
    }
   ],
   "execution_count": 11
  },
  {
   "metadata": {
    "ExecuteTime": {
     "end_time": "2025-08-21T09:41:26.928459Z",
     "start_time": "2025-08-21T09:41:26.653391Z"
    }
   },
   "cell_type": "code",
   "source": [
    "ds = datasets.Dataset.from_pandas(df)\n",
    "# save to disk\n",
    "ds.save_to_disk('data/acceptability-dataset-2')"
   ],
   "id": "ed68f87ff5d949c1",
   "outputs": [
    {
     "name": "stderr",
     "output_type": "stream",
     "text": [
      "Saving the dataset (1/1 shards): 100%|██████████| 47578/47578 [00:00<00:00, 1853237.33 examples/s]\n"
     ]
    }
   ],
   "execution_count": 12
  },
  {
   "metadata": {
    "ExecuteTime": {
     "end_time": "2025-08-21T09:41:29.576469Z",
     "start_time": "2025-08-21T09:41:29.390691Z"
    }
   },
   "cell_type": "code",
   "source": [
    "# count number of 1s\n",
    "print(f\"Number of 1s: {len(ds.filter(lambda x: x['label'] == 1))}\")"
   ],
   "id": "bf9e1305a9529bf3",
   "outputs": [
    {
     "name": "stderr",
     "output_type": "stream",
     "text": [
      "Filter: 100%|██████████| 47578/47578 [00:00<00:00, 321106.22 examples/s]"
     ]
    },
    {
     "name": "stdout",
     "output_type": "stream",
     "text": [
      "Number of 1s: 7768\n"
     ]
    },
    {
     "name": "stderr",
     "output_type": "stream",
     "text": [
      "\n"
     ]
    }
   ],
   "execution_count": 13
  },
  {
   "metadata": {},
   "cell_type": "code",
   "outputs": [],
   "execution_count": null,
   "source": "",
   "id": "ae31a28fca50df6"
  }
 ],
 "metadata": {
  "kernelspec": {
   "display_name": "Python 3",
   "language": "python",
   "name": "python3"
  },
  "language_info": {
   "codemirror_mode": {
    "name": "ipython",
    "version": 2
   },
   "file_extension": ".py",
   "mimetype": "text/x-python",
   "name": "python",
   "nbconvert_exporter": "python",
   "pygments_lexer": "ipython2",
   "version": "2.7.6"
  }
 },
 "nbformat": 4,
 "nbformat_minor": 5
}
